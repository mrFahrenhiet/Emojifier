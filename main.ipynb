{
 "cells": [
  {
   "cell_type": "code",
   "execution_count": 1,
   "metadata": {},
   "outputs": [],
   "source": [
    "import emoji"
   ]
  },
  {
   "cell_type": "code",
   "execution_count": 2,
   "metadata": {},
   "outputs": [
    {
     "data": {
      "text/plain": [
       "'😃'"
      ]
     },
     "execution_count": 2,
     "metadata": {},
     "output_type": "execute_result"
    }
   ],
   "source": [
    "emoji.EMOJI_UNICODE[\":grinning_face_with_big_eyes:\"]"
   ]
  },
  {
   "cell_type": "code",
   "execution_count": 3,
   "metadata": {},
   "outputs": [],
   "source": [
    "emoji_dictionary = {\n",
    "    \"0\":\"\\u2764\\uFE0F\",\n",
    "    \"1\":\":baseball:\",\n",
    "    \"2\":\":grinning_face_with_big_eyes:\",\n",
    "    \"3\":\":disappointed_face:\",\n",
    "    \"4\":\":fork_and_knife:\"\n",
    "}"
   ]
  },
  {
   "cell_type": "code",
   "execution_count": 4,
   "metadata": {},
   "outputs": [],
   "source": [
    "import pandas as pd\n",
    "import numpy as np"
   ]
  },
  {
   "cell_type": "code",
   "execution_count": 5,
   "metadata": {},
   "outputs": [],
   "source": [
    "dfT = pd.read_csv('./train_emoji.csv',header=None)"
   ]
  },
  {
   "cell_type": "code",
   "execution_count": 6,
   "metadata": {},
   "outputs": [
    {
     "data": {
      "text/html": [
       "<div>\n",
       "<style scoped>\n",
       "    .dataframe tbody tr th:only-of-type {\n",
       "        vertical-align: middle;\n",
       "    }\n",
       "\n",
       "    .dataframe tbody tr th {\n",
       "        vertical-align: top;\n",
       "    }\n",
       "\n",
       "    .dataframe thead th {\n",
       "        text-align: right;\n",
       "    }\n",
       "</style>\n",
       "<table border=\"1\" class=\"dataframe\">\n",
       "  <thead>\n",
       "    <tr style=\"text-align: right;\">\n",
       "      <th></th>\n",
       "      <th>0</th>\n",
       "      <th>1</th>\n",
       "      <th>2</th>\n",
       "      <th>3</th>\n",
       "    </tr>\n",
       "  </thead>\n",
       "  <tbody>\n",
       "    <tr>\n",
       "      <td>0</td>\n",
       "      <td>never talk to me again</td>\n",
       "      <td>3</td>\n",
       "      <td>NaN</td>\n",
       "      <td>NaN</td>\n",
       "    </tr>\n",
       "    <tr>\n",
       "      <td>1</td>\n",
       "      <td>I am proud of your achievements</td>\n",
       "      <td>2</td>\n",
       "      <td>NaN</td>\n",
       "      <td>NaN</td>\n",
       "    </tr>\n",
       "    <tr>\n",
       "      <td>2</td>\n",
       "      <td>It is the worst day in my life</td>\n",
       "      <td>3</td>\n",
       "      <td>NaN</td>\n",
       "      <td>NaN</td>\n",
       "    </tr>\n",
       "    <tr>\n",
       "      <td>3</td>\n",
       "      <td>Miss you so much</td>\n",
       "      <td>0</td>\n",
       "      <td>NaN</td>\n",
       "      <td>[0]</td>\n",
       "    </tr>\n",
       "    <tr>\n",
       "      <td>4</td>\n",
       "      <td>food is life</td>\n",
       "      <td>4</td>\n",
       "      <td>NaN</td>\n",
       "      <td>NaN</td>\n",
       "    </tr>\n",
       "    <tr>\n",
       "      <td>...</td>\n",
       "      <td>...</td>\n",
       "      <td>...</td>\n",
       "      <td>...</td>\n",
       "      <td>...</td>\n",
       "    </tr>\n",
       "    <tr>\n",
       "      <td>127</td>\n",
       "      <td>he had to make a home run</td>\n",
       "      <td>1</td>\n",
       "      <td>NaN</td>\n",
       "      <td>NaN</td>\n",
       "    </tr>\n",
       "    <tr>\n",
       "      <td>128</td>\n",
       "      <td>I am ordering food</td>\n",
       "      <td>4</td>\n",
       "      <td>NaN</td>\n",
       "      <td>NaN</td>\n",
       "    </tr>\n",
       "    <tr>\n",
       "      <td>129</td>\n",
       "      <td>What is wrong with you</td>\n",
       "      <td>3</td>\n",
       "      <td>NaN</td>\n",
       "      <td>NaN</td>\n",
       "    </tr>\n",
       "    <tr>\n",
       "      <td>130</td>\n",
       "      <td>I love you</td>\n",
       "      <td>0</td>\n",
       "      <td>NaN</td>\n",
       "      <td>NaN</td>\n",
       "    </tr>\n",
       "    <tr>\n",
       "      <td>131</td>\n",
       "      <td>great job</td>\n",
       "      <td>2</td>\n",
       "      <td>NaN</td>\n",
       "      <td>NaN</td>\n",
       "    </tr>\n",
       "  </tbody>\n",
       "</table>\n",
       "<p>132 rows × 4 columns</p>\n",
       "</div>"
      ],
      "text/plain": [
       "                                   0  1   2     3\n",
       "0             never talk to me again  3 NaN   NaN\n",
       "1    I am proud of your achievements  2 NaN   NaN\n",
       "2     It is the worst day in my life  3 NaN   NaN\n",
       "3                   Miss you so much  0 NaN   [0]\n",
       "4                       food is life  4 NaN   NaN\n",
       "..                               ... ..  ..   ...\n",
       "127        he had to make a home run  1 NaN   NaN\n",
       "128               I am ordering food  4 NaN   NaN\n",
       "129           What is wrong with you  3 NaN   NaN\n",
       "130                       I love you  0 NaN   NaN\n",
       "131                        great job  2 NaN   NaN\n",
       "\n",
       "[132 rows x 4 columns]"
      ]
     },
     "execution_count": 6,
     "metadata": {},
     "output_type": "execute_result"
    }
   ],
   "source": [
    "dfT"
   ]
  },
  {
   "cell_type": "code",
   "execution_count": 7,
   "metadata": {},
   "outputs": [
    {
     "data": {
      "text/plain": [
       "(132,)"
      ]
     },
     "execution_count": 7,
     "metadata": {},
     "output_type": "execute_result"
    }
   ],
   "source": [
    "X = dfT.values[:,0]\n",
    "X.shape"
   ]
  },
  {
   "cell_type": "code",
   "execution_count": 8,
   "metadata": {},
   "outputs": [
    {
     "data": {
      "text/plain": [
       "(132,)"
      ]
     },
     "execution_count": 8,
     "metadata": {},
     "output_type": "execute_result"
    }
   ],
   "source": [
    "Y = dfT.values[:,1]\n",
    "Y.shape"
   ]
  },
  {
   "cell_type": "code",
   "execution_count": 9,
   "metadata": {},
   "outputs": [
    {
     "name": "stdout",
     "output_type": "stream",
     "text": [
      "never talk to me again 😞\n",
      "I am proud of your achievements 😃\n",
      "It is the worst day in my life 😞\n",
      "Miss you so much ❤️\n",
      "food is life 🍴\n",
      "I love you mum ❤️\n",
      "Stop saying bullshit 😞\n",
      "congratulations on your acceptance 😃\n",
      "The assignment is too long  😞\n",
      "I want to go play ⚾\n"
     ]
    }
   ],
   "source": [
    "for i in range(10):\n",
    "    print(X[i],emoji.emojize(emoji_dictionary[str(Y[i])]))"
   ]
  },
  {
   "cell_type": "code",
   "execution_count": 10,
   "metadata": {},
   "outputs": [],
   "source": [
    "embedding_idx = {}"
   ]
  },
  {
   "cell_type": "code",
   "execution_count": 11,
   "metadata": {},
   "outputs": [],
   "source": [
    "with open('./glove.6B.50d.txt',encoding='utf-8') as f:\n",
    "    for line in f:\n",
    "        value = line.split()\n",
    "        word= value[0]\n",
    "        coef= np.asarray(value[1:],dtype='float')\n",
    "        embedding_idx[word] = coef\n",
    "        \n",
    "        "
   ]
  },
  {
   "cell_type": "code",
   "execution_count": 12,
   "metadata": {},
   "outputs": [
    {
     "name": "stdout",
     "output_type": "stream",
     "text": [
      "50\n"
     ]
    }
   ],
   "source": [
    "emdIdx = embedding_idx[':'].shape[0]\n",
    "print(emdIdx)"
   ]
  },
  {
   "cell_type": "code",
   "execution_count": 13,
   "metadata": {},
   "outputs": [],
   "source": [
    "def embedding_output(X):\n",
    "    max_len = 10\n",
    "    embedding_out = np.zeros((X.shape[0],max_len,emdIdx))\n",
    "    \n",
    "    for ix in range(X.shape[0]):\n",
    "        X[ix] = X[ix].split()\n",
    "        for jx in range(len(X[ix])):\n",
    "            try:\n",
    "                embedding_out[ix][jx] = embedding_idx[X[ix][jx].lower()]\n",
    "            except:\n",
    "                embedding_out[ix][jx] = np.zeros((50,))\n",
    "    return embedding_out"
   ]
  },
  {
   "cell_type": "code",
   "execution_count": 14,
   "metadata": {},
   "outputs": [],
   "source": [
    "embedding_mat_train = embedding_output(X)"
   ]
  },
  {
   "cell_type": "code",
   "execution_count": 15,
   "metadata": {},
   "outputs": [
    {
     "data": {
      "text/plain": [
       "['she', 'did', 'not', 'answer', 'my', 'text']"
      ]
     },
     "execution_count": 15,
     "metadata": {},
     "output_type": "execute_result"
    }
   ],
   "source": [
    "X[10]"
   ]
  },
  {
   "cell_type": "code",
   "execution_count": 16,
   "metadata": {},
   "outputs": [
    {
     "data": {
      "text/plain": [
       "['how', 'many', 'points', 'did', 'he', 'score']"
      ]
     },
     "execution_count": 16,
     "metadata": {},
     "output_type": "execute_result"
    }
   ],
   "source": [
    "X[12]"
   ]
  },
  {
   "cell_type": "code",
   "execution_count": 17,
   "metadata": {},
   "outputs": [
    {
     "data": {
      "text/plain": [
       "(132, 10, 50)"
      ]
     },
     "execution_count": 17,
     "metadata": {},
     "output_type": "execute_result"
    }
   ],
   "source": [
    "embedding_mat_train.shape"
   ]
  },
  {
   "cell_type": "markdown",
   "metadata": {},
   "source": [
    "## **Simple LSTM Model**"
   ]
  },
  {
   "cell_type": "code",
   "execution_count": 18,
   "metadata": {},
   "outputs": [
    {
     "name": "stderr",
     "output_type": "stream",
     "text": [
      "Using TensorFlow backend.\n"
     ]
    }
   ],
   "source": [
    "from keras.models import Sequential\n",
    "from keras.layers import LSTM,Dense,Activation,Dropout"
   ]
  },
  {
   "cell_type": "code",
   "execution_count": 19,
   "metadata": {},
   "outputs": [],
   "source": [
    "m = Sequential()"
   ]
  },
  {
   "cell_type": "code",
   "execution_count": 20,
   "metadata": {},
   "outputs": [
    {
     "name": "stdout",
     "output_type": "stream",
     "text": [
      "Model: \"sequential_1\"\n",
      "_________________________________________________________________\n",
      "Layer (type)                 Output Shape              Param #   \n",
      "=================================================================\n",
      "lstm_1 (LSTM)                (None, 10, 64)            29440     \n",
      "_________________________________________________________________\n",
      "dropout_1 (Dropout)          (None, 10, 64)            0         \n",
      "_________________________________________________________________\n",
      "lstm_2 (LSTM)                (None, 64)                33024     \n",
      "_________________________________________________________________\n",
      "dense_1 (Dense)              (None, 5)                 325       \n",
      "_________________________________________________________________\n",
      "activation_1 (Activation)    (None, 5)                 0         \n",
      "=================================================================\n",
      "Total params: 62,789\n",
      "Trainable params: 62,789\n",
      "Non-trainable params: 0\n",
      "_________________________________________________________________\n"
     ]
    }
   ],
   "source": [
    "m.add(LSTM(64,input_shape=(10,50),return_sequences=True))\n",
    "m.add(Dropout(0.5))\n",
    "m.add(LSTM(64,return_sequences=False))\n",
    "m.add(Dense(5))\n",
    "m.add(Activation('softmax'))\n",
    "m.compile(optimizer='adam',loss='categorical_crossentropy',metrics=['acc'])\n",
    "m.summary()"
   ]
  },
  {
   "cell_type": "code",
   "execution_count": 21,
   "metadata": {},
   "outputs": [],
   "source": [
    "from keras.utils import to_categorical"
   ]
  },
  {
   "cell_type": "code",
   "execution_count": 22,
   "metadata": {},
   "outputs": [
    {
     "data": {
      "text/plain": [
       "(132, 5)"
      ]
     },
     "execution_count": 22,
     "metadata": {},
     "output_type": "execute_result"
    }
   ],
   "source": [
    "Y_train = to_categorical(Y)\n",
    "Y_train.shape"
   ]
  },
  {
   "cell_type": "code",
   "execution_count": null,
   "metadata": {},
   "outputs": [],
   "source": []
  },
  {
   "cell_type": "code",
   "execution_count": 23,
   "metadata": {},
   "outputs": [],
   "source": [
    "from keras.callbacks import ModelCheckpoint\n",
    "from keras.callbacks import EarlyStopping"
   ]
  },
  {
   "cell_type": "code",
   "execution_count": 24,
   "metadata": {},
   "outputs": [],
   "source": [
    "checkpt = ModelCheckpoint(save_best_only=True,monitor='val_loss',mode='auto',period=1,filepath=\"best_model.h5\")\n",
    "early = EarlyStopping(monitor='val_loss',patience=100)"
   ]
  },
  {
   "cell_type": "code",
   "execution_count": 25,
   "metadata": {
    "scrolled": true
   },
   "outputs": [
    {
     "name": "stdout",
     "output_type": "stream",
     "text": [
      "WARNING:tensorflow:From C:\\ProgramData\\Anaconda3\\lib\\site-packages\\keras\\backend\\tensorflow_backend.py:422: The name tf.global_variables is deprecated. Please use tf.compat.v1.global_variables instead.\n",
      "\n",
      "Train on 105 samples, validate on 27 samples\n",
      "Epoch 1/500\n",
      "105/105 [==============================] - 0s 5ms/step - loss: 1.6002 - acc: 0.2667 - val_loss: 1.6154 - val_acc: 0.2963\n",
      "Epoch 2/500\n",
      "105/105 [==============================] - 0s 237us/step - loss: 1.5473 - acc: 0.3333 - val_loss: 1.6261 - val_acc: 0.2963\n",
      "Epoch 3/500\n",
      "105/105 [==============================] - 0s 247us/step - loss: 1.5019 - acc: 0.4000 - val_loss: 1.6537 - val_acc: 0.2593\n",
      "Epoch 4/500\n",
      "105/105 [==============================] - 0s 266us/step - loss: 1.4755 - acc: 0.4190 - val_loss: 1.6920 - val_acc: 0.2593\n",
      "Epoch 5/500\n",
      "105/105 [==============================] - 0s 247us/step - loss: 1.4485 - acc: 0.4667 - val_loss: 1.7219 - val_acc: 0.2222\n",
      "Epoch 6/500\n",
      "105/105 [==============================] - 0s 247us/step - loss: 1.4259 - acc: 0.4381 - val_loss: 1.7161 - val_acc: 0.2593\n",
      "Epoch 7/500\n",
      "105/105 [==============================] - 0s 266us/step - loss: 1.3863 - acc: 0.4762 - val_loss: 1.6722 - val_acc: 0.2593\n",
      "Epoch 8/500\n",
      "105/105 [==============================] - 0s 247us/step - loss: 1.3415 - acc: 0.4857 - val_loss: 1.6059 - val_acc: 0.2593\n",
      "Epoch 9/500\n",
      "105/105 [==============================] - 0s 247us/step - loss: 1.2934 - acc: 0.5429 - val_loss: 1.5335 - val_acc: 0.2593\n",
      "Epoch 10/500\n",
      "105/105 [==============================] - 0s 218us/step - loss: 1.2338 - acc: 0.5905 - val_loss: 1.4692 - val_acc: 0.2593\n",
      "Epoch 11/500\n",
      "105/105 [==============================] - 0s 199us/step - loss: 1.1564 - acc: 0.5905 - val_loss: 1.4208 - val_acc: 0.2963\n",
      "Epoch 12/500\n",
      "105/105 [==============================] - 0s 228us/step - loss: 1.0869 - acc: 0.6381 - val_loss: 1.3874 - val_acc: 0.3333\n",
      "Epoch 13/500\n",
      "105/105 [==============================] - 0s 218us/step - loss: 1.0051 - acc: 0.6667 - val_loss: 1.3534 - val_acc: 0.3704\n",
      "Epoch 14/500\n",
      "105/105 [==============================] - 0s 199us/step - loss: 0.9163 - acc: 0.6667 - val_loss: 1.3120 - val_acc: 0.3704\n",
      "Epoch 15/500\n",
      "105/105 [==============================] - 0s 218us/step - loss: 0.8579 - acc: 0.6762 - val_loss: 1.2681 - val_acc: 0.4074\n",
      "Epoch 16/500\n",
      "105/105 [==============================] - 0s 218us/step - loss: 0.7522 - acc: 0.7429 - val_loss: 1.2163 - val_acc: 0.4815\n",
      "Epoch 17/500\n",
      "105/105 [==============================] - 0s 228us/step - loss: 0.7171 - acc: 0.7619 - val_loss: 1.1617 - val_acc: 0.5185\n",
      "Epoch 18/500\n",
      "105/105 [==============================] - 0s 199us/step - loss: 0.6734 - acc: 0.7619 - val_loss: 1.1174 - val_acc: 0.5185\n",
      "Epoch 19/500\n",
      "105/105 [==============================] - 0s 218us/step - loss: 0.6072 - acc: 0.7524 - val_loss: 1.1246 - val_acc: 0.5556\n",
      "Epoch 20/500\n",
      "105/105 [==============================] - 0s 218us/step - loss: 0.5371 - acc: 0.8000 - val_loss: 1.1058 - val_acc: 0.5556\n",
      "Epoch 21/500\n",
      "105/105 [==============================] - 0s 228us/step - loss: 0.5015 - acc: 0.8000 - val_loss: 1.1770 - val_acc: 0.5556\n",
      "Epoch 22/500\n",
      "105/105 [==============================] - 0s 209us/step - loss: 0.4423 - acc: 0.8381 - val_loss: 1.2144 - val_acc: 0.5185\n",
      "Epoch 23/500\n",
      "105/105 [==============================] - 0s 218us/step - loss: 0.4238 - acc: 0.8476 - val_loss: 1.2344 - val_acc: 0.5556\n",
      "Epoch 24/500\n",
      "105/105 [==============================] - 0s 218us/step - loss: 0.3718 - acc: 0.8571 - val_loss: 1.3000 - val_acc: 0.5926\n",
      "Epoch 25/500\n",
      "105/105 [==============================] - 0s 228us/step - loss: 0.3493 - acc: 0.8857 - val_loss: 1.3306 - val_acc: 0.5926\n",
      "Epoch 26/500\n",
      "105/105 [==============================] - 0s 218us/step - loss: 0.3780 - acc: 0.8667 - val_loss: 1.2305 - val_acc: 0.5926\n",
      "Epoch 27/500\n",
      "105/105 [==============================] - 0s 218us/step - loss: 0.3328 - acc: 0.8857 - val_loss: 1.2257 - val_acc: 0.6296\n",
      "Epoch 28/500\n",
      "105/105 [==============================] - 0s 209us/step - loss: 0.3152 - acc: 0.8762 - val_loss: 1.3711 - val_acc: 0.5556\n",
      "Epoch 29/500\n",
      "105/105 [==============================] - 0s 228us/step - loss: 0.2453 - acc: 0.9143 - val_loss: 1.2862 - val_acc: 0.6296\n",
      "Epoch 30/500\n",
      "105/105 [==============================] - 0s 237us/step - loss: 0.2099 - acc: 0.9333 - val_loss: 1.3162 - val_acc: 0.6296\n",
      "Epoch 31/500\n",
      "105/105 [==============================] - 0s 228us/step - loss: 0.2652 - acc: 0.8952 - val_loss: 1.3363 - val_acc: 0.5926\n",
      "Epoch 32/500\n",
      "105/105 [==============================] - 0s 218us/step - loss: 0.2350 - acc: 0.9048 - val_loss: 1.4160 - val_acc: 0.6296\n",
      "Epoch 33/500\n",
      "105/105 [==============================] - 0s 228us/step - loss: 0.2555 - acc: 0.9143 - val_loss: 1.2187 - val_acc: 0.5926\n",
      "Epoch 34/500\n",
      "105/105 [==============================] - 0s 218us/step - loss: 0.2059 - acc: 0.9333 - val_loss: 1.2488 - val_acc: 0.5926\n",
      "Epoch 35/500\n",
      "105/105 [==============================] - 0s 218us/step - loss: 0.1683 - acc: 0.9333 - val_loss: 1.3970 - val_acc: 0.5926\n",
      "Epoch 36/500\n",
      "105/105 [==============================] - 0s 218us/step - loss: 0.1669 - acc: 0.9429 - val_loss: 1.4953 - val_acc: 0.6296\n",
      "Epoch 37/500\n",
      "105/105 [==============================] - 0s 218us/step - loss: 0.1645 - acc: 0.9333 - val_loss: 1.5922 - val_acc: 0.5926\n",
      "Epoch 38/500\n",
      "105/105 [==============================] - 0s 218us/step - loss: 0.1801 - acc: 0.9429 - val_loss: 1.5735 - val_acc: 0.6296\n",
      "Epoch 39/500\n",
      "105/105 [==============================] - 0s 228us/step - loss: 0.1481 - acc: 0.9619 - val_loss: 1.5703 - val_acc: 0.6296\n",
      "Epoch 40/500\n",
      "105/105 [==============================] - 0s 218us/step - loss: 0.1124 - acc: 0.9619 - val_loss: 1.4164 - val_acc: 0.5926\n",
      "Epoch 41/500\n",
      "105/105 [==============================] - 0s 228us/step - loss: 0.0932 - acc: 0.9810 - val_loss: 1.6133 - val_acc: 0.6296\n",
      "Epoch 42/500\n",
      "105/105 [==============================] - 0s 228us/step - loss: 0.1332 - acc: 0.9524 - val_loss: 1.4382 - val_acc: 0.6667\n",
      "Epoch 43/500\n",
      "105/105 [==============================] - 0s 228us/step - loss: 0.0986 - acc: 0.9524 - val_loss: 1.3973 - val_acc: 0.6667\n",
      "Epoch 44/500\n",
      "105/105 [==============================] - 0s 237us/step - loss: 0.1055 - acc: 0.9714 - val_loss: 1.3079 - val_acc: 0.6667\n",
      "Epoch 45/500\n",
      "105/105 [==============================] - 0s 237us/step - loss: 0.0869 - acc: 0.9714 - val_loss: 1.3197 - val_acc: 0.7037\n",
      "Epoch 46/500\n",
      "105/105 [==============================] - 0s 247us/step - loss: 0.0785 - acc: 0.9810 - val_loss: 1.3850 - val_acc: 0.6296\n",
      "Epoch 47/500\n",
      "105/105 [==============================] - 0s 228us/step - loss: 0.0594 - acc: 0.9810 - val_loss: 1.4241 - val_acc: 0.6667\n",
      "Epoch 48/500\n",
      "105/105 [==============================] - 0s 228us/step - loss: 0.0501 - acc: 0.9905 - val_loss: 1.5490 - val_acc: 0.6296\n",
      "Epoch 49/500\n",
      "105/105 [==============================] - 0s 218us/step - loss: 0.0603 - acc: 0.9810 - val_loss: 1.5677 - val_acc: 0.6296\n",
      "Epoch 50/500\n",
      "105/105 [==============================] - 0s 228us/step - loss: 0.0412 - acc: 0.9905 - val_loss: 1.5446 - val_acc: 0.5926\n",
      "Epoch 51/500\n",
      "105/105 [==============================] - 0s 209us/step - loss: 0.0409 - acc: 0.9905 - val_loss: 1.5043 - val_acc: 0.5926\n",
      "Epoch 52/500\n",
      "105/105 [==============================] - 0s 209us/step - loss: 0.0368 - acc: 1.0000 - val_loss: 1.4802 - val_acc: 0.5926\n",
      "Epoch 53/500\n",
      "105/105 [==============================] - 0s 209us/step - loss: 0.0288 - acc: 0.9905 - val_loss: 1.4551 - val_acc: 0.5926\n",
      "Epoch 54/500\n",
      "105/105 [==============================] - 0s 209us/step - loss: 0.0284 - acc: 1.0000 - val_loss: 1.4624 - val_acc: 0.5926\n",
      "Epoch 55/500\n",
      "105/105 [==============================] - 0s 247us/step - loss: 0.0257 - acc: 1.0000 - val_loss: 1.4706 - val_acc: 0.5926\n",
      "Epoch 56/500\n",
      "105/105 [==============================] - 0s 209us/step - loss: 0.0216 - acc: 1.0000 - val_loss: 1.4833 - val_acc: 0.6296\n",
      "Epoch 57/500\n",
      "105/105 [==============================] - 0s 209us/step - loss: 0.0200 - acc: 1.0000 - val_loss: 1.4936 - val_acc: 0.6296\n",
      "Epoch 58/500\n",
      "105/105 [==============================] - 0s 209us/step - loss: 0.0186 - acc: 1.0000 - val_loss: 1.5056 - val_acc: 0.6296\n",
      "Epoch 59/500\n"
     ]
    },
    {
     "name": "stdout",
     "output_type": "stream",
     "text": [
      "105/105 [==============================] - 0s 218us/step - loss: 0.0181 - acc: 1.0000 - val_loss: 1.5120 - val_acc: 0.5926\n",
      "Epoch 60/500\n",
      "105/105 [==============================] - 0s 218us/step - loss: 0.0171 - acc: 1.0000 - val_loss: 1.5184 - val_acc: 0.5926\n",
      "Epoch 61/500\n",
      "105/105 [==============================] - 0s 199us/step - loss: 0.0148 - acc: 1.0000 - val_loss: 1.5337 - val_acc: 0.5926\n",
      "Epoch 62/500\n",
      "105/105 [==============================] - 0s 209us/step - loss: 0.0188 - acc: 1.0000 - val_loss: 1.5373 - val_acc: 0.5926\n",
      "Epoch 63/500\n",
      "105/105 [==============================] - 0s 209us/step - loss: 0.0135 - acc: 1.0000 - val_loss: 1.5500 - val_acc: 0.6296\n",
      "Epoch 64/500\n",
      "105/105 [==============================] - 0s 209us/step - loss: 0.0127 - acc: 1.0000 - val_loss: 1.5569 - val_acc: 0.6296\n",
      "Epoch 65/500\n",
      "105/105 [==============================] - 0s 199us/step - loss: 0.0142 - acc: 1.0000 - val_loss: 1.5757 - val_acc: 0.6667\n",
      "Epoch 66/500\n",
      "105/105 [==============================] - 0s 199us/step - loss: 0.0138 - acc: 1.0000 - val_loss: 1.5997 - val_acc: 0.6667\n",
      "Epoch 67/500\n",
      "105/105 [==============================] - 0s 199us/step - loss: 0.0145 - acc: 1.0000 - val_loss: 1.5920 - val_acc: 0.6667\n",
      "Epoch 68/500\n",
      "105/105 [==============================] - 0s 200us/step - loss: 0.0536 - acc: 0.9905 - val_loss: 1.5740 - val_acc: 0.6296\n",
      "Epoch 69/500\n",
      "105/105 [==============================] - 0s 209us/step - loss: 0.0264 - acc: 0.9905 - val_loss: 1.5518 - val_acc: 0.6296\n",
      "Epoch 70/500\n",
      "105/105 [==============================] - 0s 199us/step - loss: 0.0134 - acc: 1.0000 - val_loss: 1.7150 - val_acc: 0.6667\n",
      "Epoch 71/500\n",
      "105/105 [==============================] - 0s 209us/step - loss: 0.0523 - acc: 0.9810 - val_loss: 1.6572 - val_acc: 0.5926\n",
      "Epoch 72/500\n",
      "105/105 [==============================] - 0s 199us/step - loss: 0.0107 - acc: 1.0000 - val_loss: 1.7610 - val_acc: 0.6296\n",
      "Epoch 73/500\n",
      "105/105 [==============================] - 0s 209us/step - loss: 0.0855 - acc: 0.9619 - val_loss: 1.8774 - val_acc: 0.6296\n",
      "Epoch 74/500\n",
      "105/105 [==============================] - 0s 209us/step - loss: 0.0597 - acc: 0.9619 - val_loss: 1.9104 - val_acc: 0.6296\n",
      "Epoch 75/500\n",
      "105/105 [==============================] - 0s 199us/step - loss: 0.1089 - acc: 0.9619 - val_loss: 1.8788 - val_acc: 0.5926\n",
      "Epoch 76/500\n",
      "105/105 [==============================] - 0s 209us/step - loss: 0.0225 - acc: 1.0000 - val_loss: 1.9432 - val_acc: 0.5926\n",
      "Epoch 77/500\n",
      "105/105 [==============================] - 0s 199us/step - loss: 0.0360 - acc: 0.9905 - val_loss: 1.8204 - val_acc: 0.6296\n",
      "Epoch 78/500\n",
      "105/105 [==============================] - 0s 209us/step - loss: 0.0158 - acc: 1.0000 - val_loss: 1.6655 - val_acc: 0.7037\n",
      "Epoch 79/500\n",
      "105/105 [==============================] - 0s 209us/step - loss: 0.0131 - acc: 1.0000 - val_loss: 1.6006 - val_acc: 0.6667\n",
      "Epoch 80/500\n",
      "105/105 [==============================] - 0s 209us/step - loss: 0.0145 - acc: 1.0000 - val_loss: 1.4541 - val_acc: 0.6667\n",
      "Epoch 81/500\n",
      "105/105 [==============================] - 0s 209us/step - loss: 0.0095 - acc: 1.0000 - val_loss: 1.3782 - val_acc: 0.7037\n",
      "Epoch 82/500\n",
      "105/105 [==============================] - 0s 199us/step - loss: 0.0129 - acc: 1.0000 - val_loss: 1.4114 - val_acc: 0.6667\n",
      "Epoch 83/500\n",
      "105/105 [==============================] - 0s 218us/step - loss: 0.0190 - acc: 1.0000 - val_loss: 1.4096 - val_acc: 0.6667\n",
      "Epoch 84/500\n",
      "105/105 [==============================] - 0s 209us/step - loss: 0.0087 - acc: 1.0000 - val_loss: 1.6511 - val_acc: 0.6667\n",
      "Epoch 85/500\n",
      "105/105 [==============================] - 0s 218us/step - loss: 0.0098 - acc: 1.0000 - val_loss: 1.8507 - val_acc: 0.6667\n",
      "Epoch 86/500\n",
      "105/105 [==============================] - 0s 199us/step - loss: 0.0090 - acc: 1.0000 - val_loss: 1.8983 - val_acc: 0.6667\n",
      "Epoch 87/500\n",
      "105/105 [==============================] - 0s 218us/step - loss: 0.0117 - acc: 1.0000 - val_loss: 1.8289 - val_acc: 0.5926\n",
      "Epoch 88/500\n",
      "105/105 [==============================] - 0s 218us/step - loss: 0.0071 - acc: 1.0000 - val_loss: 1.7643 - val_acc: 0.6296\n",
      "Epoch 89/500\n",
      "105/105 [==============================] - 0s 209us/step - loss: 0.0088 - acc: 1.0000 - val_loss: 1.7574 - val_acc: 0.5926\n",
      "Epoch 90/500\n",
      "105/105 [==============================] - 0s 209us/step - loss: 0.0091 - acc: 1.0000 - val_loss: 1.7624 - val_acc: 0.5926\n",
      "Epoch 91/500\n",
      "105/105 [==============================] - 0s 218us/step - loss: 0.0077 - acc: 1.0000 - val_loss: 1.7741 - val_acc: 0.5926\n",
      "Epoch 92/500\n",
      "105/105 [==============================] - 0s 209us/step - loss: 0.0065 - acc: 1.0000 - val_loss: 1.7725 - val_acc: 0.5926\n",
      "Epoch 93/500\n",
      "105/105 [==============================] - 0s 228us/step - loss: 0.0062 - acc: 1.0000 - val_loss: 1.7657 - val_acc: 0.5926\n",
      "Epoch 94/500\n",
      "105/105 [==============================] - 0s 237us/step - loss: 0.0044 - acc: 1.0000 - val_loss: 1.7603 - val_acc: 0.5926\n",
      "Epoch 95/500\n",
      "105/105 [==============================] - 0s 228us/step - loss: 0.0048 - acc: 1.0000 - val_loss: 1.7586 - val_acc: 0.6296\n",
      "Epoch 96/500\n",
      "105/105 [==============================] - 0s 228us/step - loss: 0.0052 - acc: 1.0000 - val_loss: 1.7655 - val_acc: 0.5926\n",
      "Epoch 97/500\n",
      "105/105 [==============================] - 0s 237us/step - loss: 0.0049 - acc: 1.0000 - val_loss: 1.7839 - val_acc: 0.5926\n",
      "Epoch 98/500\n",
      "105/105 [==============================] - 0s 218us/step - loss: 0.0041 - acc: 1.0000 - val_loss: 1.8035 - val_acc: 0.5926\n",
      "Epoch 99/500\n",
      "105/105 [==============================] - 0s 237us/step - loss: 0.0049 - acc: 1.0000 - val_loss: 1.8144 - val_acc: 0.5926\n",
      "Epoch 100/500\n",
      "105/105 [==============================] - 0s 228us/step - loss: 0.0044 - acc: 1.0000 - val_loss: 1.8229 - val_acc: 0.5926\n",
      "Epoch 101/500\n",
      "105/105 [==============================] - 0s 237us/step - loss: 0.0034 - acc: 1.0000 - val_loss: 1.8295 - val_acc: 0.5926\n",
      "Epoch 102/500\n",
      "105/105 [==============================] - 0s 228us/step - loss: 0.0038 - acc: 1.0000 - val_loss: 1.8336 - val_acc: 0.5926\n",
      "Epoch 103/500\n",
      "105/105 [==============================] - 0s 228us/step - loss: 0.0036 - acc: 1.0000 - val_loss: 1.8417 - val_acc: 0.6296\n",
      "Epoch 104/500\n",
      "105/105 [==============================] - 0s 209us/step - loss: 0.0040 - acc: 1.0000 - val_loss: 1.8427 - val_acc: 0.6296\n",
      "Epoch 105/500\n",
      "105/105 [==============================] - 0s 209us/step - loss: 0.0031 - acc: 1.0000 - val_loss: 1.8427 - val_acc: 0.6296\n",
      "Epoch 106/500\n",
      "105/105 [==============================] - 0s 199us/step - loss: 0.0029 - acc: 1.0000 - val_loss: 1.8415 - val_acc: 0.6296\n",
      "Epoch 107/500\n",
      "105/105 [==============================] - 0s 209us/step - loss: 0.0029 - acc: 1.0000 - val_loss: 1.8415 - val_acc: 0.6296\n",
      "Epoch 108/500\n",
      "105/105 [==============================] - 0s 209us/step - loss: 0.0033 - acc: 1.0000 - val_loss: 1.8414 - val_acc: 0.6296\n",
      "Epoch 109/500\n",
      "105/105 [==============================] - 0s 209us/step - loss: 0.0035 - acc: 1.0000 - val_loss: 1.8456 - val_acc: 0.6296\n",
      "Epoch 110/500\n",
      "105/105 [==============================] - 0s 209us/step - loss: 0.0032 - acc: 1.0000 - val_loss: 1.8532 - val_acc: 0.6296\n",
      "Epoch 111/500\n",
      "105/105 [==============================] - 0s 209us/step - loss: 0.0030 - acc: 1.0000 - val_loss: 1.8618 - val_acc: 0.6296\n",
      "Epoch 112/500\n",
      "105/105 [==============================] - 0s 228us/step - loss: 0.0033 - acc: 1.0000 - val_loss: 1.8681 - val_acc: 0.6296\n",
      "Epoch 113/500\n",
      "105/105 [==============================] - 0s 247us/step - loss: 0.0032 - acc: 1.0000 - val_loss: 1.8717 - val_acc: 0.6296\n",
      "Epoch 114/500\n",
      "105/105 [==============================] - 0s 266us/step - loss: 0.0024 - acc: 1.0000 - val_loss: 1.8763 - val_acc: 0.6296\n",
      "Epoch 115/500\n",
      "105/105 [==============================] - 0s 285us/step - loss: 0.0026 - acc: 1.0000 - val_loss: 1.8789 - val_acc: 0.6296\n",
      "Epoch 116/500\n",
      "105/105 [==============================] - 0s 285us/step - loss: 0.0026 - acc: 1.0000 - val_loss: 1.8806 - val_acc: 0.6296\n",
      "Epoch 117/500\n",
      "105/105 [==============================] - 0s 285us/step - loss: 0.0026 - acc: 1.0000 - val_loss: 1.8800 - val_acc: 0.6296\n",
      "Epoch 118/500\n",
      "105/105 [==============================] - 0s 237us/step - loss: 0.0040 - acc: 1.0000 - val_loss: 1.8683 - val_acc: 0.6296\n",
      "Epoch 119/500\n"
     ]
    },
    {
     "name": "stdout",
     "output_type": "stream",
     "text": [
      "105/105 [==============================] - 0s 256us/step - loss: 0.0021 - acc: 1.0000 - val_loss: 1.8656 - val_acc: 0.6296\n",
      "Epoch 120/500\n",
      "105/105 [==============================] - 0s 275us/step - loss: 0.0021 - acc: 1.0000 - val_loss: 1.8613 - val_acc: 0.5926\n"
     ]
    }
   ],
   "source": [
    "hist = m.fit(embedding_mat_train,Y_train,epochs=500,batch_size=64,shuffle=False,validation_split=0.2,callbacks=[checkpt,early])"
   ]
  },
  {
   "cell_type": "code",
   "execution_count": 26,
   "metadata": {},
   "outputs": [],
   "source": [
    "m.load_weights('best_model.h5')"
   ]
  },
  {
   "cell_type": "code",
   "execution_count": 27,
   "metadata": {},
   "outputs": [
    {
     "name": "stdout",
     "output_type": "stream",
     "text": [
      "132/132 [==============================] - 0s 106us/step\n"
     ]
    },
    {
     "data": {
      "text/plain": [
       "[0.6068259983351736, 0.7727272510528564]"
      ]
     },
     "execution_count": 27,
     "metadata": {},
     "output_type": "execute_result"
    }
   ],
   "source": [
    "m.evaluate(embedding_mat_train,Y_train)"
   ]
  },
  {
   "cell_type": "code",
   "execution_count": 28,
   "metadata": {
    "scrolled": true
   },
   "outputs": [],
   "source": [
    "dft = pd.read_csv('./test_emoji.csv',header=None)\n"
   ]
  },
  {
   "cell_type": "code",
   "execution_count": 29,
   "metadata": {},
   "outputs": [],
   "source": [
    "Xt = dft.values[:,0]\n",
    "Yt = dft.values[:,1]\n"
   ]
  },
  {
   "cell_type": "code",
   "execution_count": 30,
   "metadata": {},
   "outputs": [],
   "source": [
    "X_test = embedding_output(Xt)"
   ]
  },
  {
   "cell_type": "code",
   "execution_count": 31,
   "metadata": {},
   "outputs": [],
   "source": [
    "Y_test = to_categorical(Yt)"
   ]
  },
  {
   "cell_type": "code",
   "execution_count": 32,
   "metadata": {},
   "outputs": [
    {
     "data": {
      "text/plain": [
       "(56, 5)"
      ]
     },
     "execution_count": 32,
     "metadata": {},
     "output_type": "execute_result"
    }
   ],
   "source": [
    "Y_test.shape"
   ]
  },
  {
   "cell_type": "code",
   "execution_count": 33,
   "metadata": {},
   "outputs": [
    {
     "name": "stdout",
     "output_type": "stream",
     "text": [
      "56/56 [==============================] - 0s 125us/step\n"
     ]
    },
    {
     "data": {
      "text/plain": [
       "[1.370129840714591, 0.4821428656578064]"
      ]
     },
     "execution_count": 33,
     "metadata": {},
     "output_type": "execute_result"
    }
   ],
   "source": [
    "m.evaluate(X_test,Y_test)"
   ]
  },
  {
   "cell_type": "code",
   "execution_count": 34,
   "metadata": {},
   "outputs": [],
   "source": [
    "pred = m.predict_classes(X_test)"
   ]
  },
  {
   "cell_type": "code",
   "execution_count": 35,
   "metadata": {
    "scrolled": false
   },
   "outputs": [
    {
     "name": "stdout",
     "output_type": "stream",
     "text": [
      "I want to eat\n",
      "prediction: 🍴\n",
      "Actuall: 🍴\n",
      " \n",
      "he did not answer\n",
      "prediction: 😞\n",
      "Actuall: 😞\n",
      " \n",
      "he got a raise\n",
      "prediction: ⚾\n",
      "Actuall: 😃\n",
      " \n",
      "she got me a present\n",
      "prediction: 😞\n",
      "Actuall: ❤️\n",
      " \n",
      "ha ha ha it was so funny\n",
      "prediction: 😃\n",
      "Actuall: 😃\n",
      " \n",
      "he is a good friend\n",
      "prediction: 😃\n",
      "Actuall: ❤️\n",
      " \n",
      "I am upset\n",
      "prediction: 😞\n",
      "Actuall: ❤️\n",
      " \n",
      "We had such a lovely dinner tonight\n",
      "prediction: 😃\n",
      "Actuall: ❤️\n",
      " \n",
      "where is the food\n",
      "prediction: 🍴\n",
      "Actuall: 🍴\n",
      " \n",
      "Stop making this joke ha ha ha\n",
      "prediction: 😃\n",
      "Actuall: 😃\n",
      " \n",
      "where is the ball\n",
      "prediction: ⚾\n",
      "Actuall: ⚾\n",
      " \n",
      "work is hard\n",
      "prediction: 😃\n",
      "Actuall: 😞\n",
      " \n",
      "This girl is messing with me\n",
      "prediction: ❤️\n",
      "Actuall: 😞\n",
      " \n",
      "are you serious ha ha\n",
      "prediction: 😞\n",
      "Actuall: 😃\n",
      " \n",
      "Let us go play baseball\n",
      "prediction: ⚾\n",
      "Actuall: ⚾\n",
      " \n",
      "This stupid grader is not working\n",
      "prediction: 😞\n",
      "Actuall: 😞\n",
      " \n",
      "work is horrible\n",
      "prediction: 😃\n",
      "Actuall: 😞\n",
      " \n",
      "Congratulation for having a baby\n",
      "prediction: 😃\n",
      "Actuall: 😃\n",
      " \n",
      "stop messing around\n",
      "prediction: 🍴\n",
      "Actuall: 😞\n",
      " \n",
      "any suggestions for dinner\n",
      "prediction: 😃\n",
      "Actuall: 🍴\n",
      " \n",
      "I love taking breaks\n",
      "prediction: 😞\n",
      "Actuall: ❤️\n",
      " \n",
      "you brighten my day\n",
      "prediction: ❤️\n",
      "Actuall: 😃\n",
      " \n",
      "I boiled rice\n",
      "prediction: 🍴\n",
      "Actuall: 🍴\n",
      " \n",
      "she is a bully\n",
      "prediction: ❤️\n",
      "Actuall: 😞\n",
      " \n",
      "Why are you feeling bad\n",
      "prediction: ❤️\n",
      "Actuall: 😞\n",
      " \n",
      "I am upset\n",
      "prediction: 😞\n",
      "Actuall: 😞\n",
      " \n",
      "I worked during my birthday\n",
      "prediction: 😞\n",
      "Actuall: 😞\n",
      " \n",
      "My grandmother is the love of my life\n",
      "prediction: ❤️\n",
      "Actuall: ❤️\n",
      " \n",
      "enjoy your break\n",
      "prediction: 🍴\n",
      "Actuall: 😃\n",
      " \n",
      "valentine day is near\n",
      "prediction: 😃\n",
      "Actuall: ❤️\n",
      " \n"
     ]
    }
   ],
   "source": [
    "for i in range(30):\n",
    "    print(' '.join(Xt[i]))\n",
    "    print(\"prediction:\",emoji.emojize(emoji_dictionary[str(pred[i])]))\n",
    "    print(\"Actuall:\",emoji.emojize(emoji_dictionary[str(np.argmax(Y_test[i]))]))\n",
    "    print(\" \")"
   ]
  },
  {
   "cell_type": "code",
   "execution_count": 36,
   "metadata": {},
   "outputs": [],
   "source": [
    "with open(\"model.json\", \"w\") as file:\n",
    "    file.write(m.to_json())\n",
    "m.save_weights(\"model.h5\")"
   ]
  },
  {
   "cell_type": "code",
   "execution_count": 37,
   "metadata": {},
   "outputs": [],
   "source": [
    "from keras.models import model_from_json"
   ]
  },
  {
   "cell_type": "code",
   "execution_count": 38,
   "metadata": {},
   "outputs": [],
   "source": [
    "with open(\"model.json\",'r') as f:\n",
    "    m = model_from_json(f.read())\n",
    "m.load_weights(\"model.h5\")"
   ]
  },
  {
   "cell_type": "code",
   "execution_count": 39,
   "metadata": {},
   "outputs": [
    {
     "name": "stdout",
     "output_type": "stream",
     "text": [
      "Enter some text: happy\n"
     ]
    }
   ],
   "source": [
    "test_str = input(\"Enter some text: \")\n",
    "X = pd.Series([test_str])"
   ]
  },
  {
   "cell_type": "code",
   "execution_count": 40,
   "metadata": {},
   "outputs": [
    {
     "data": {
      "text/plain": [
       "0    happy\n",
       "dtype: object"
      ]
     },
     "execution_count": 40,
     "metadata": {},
     "output_type": "execute_result"
    }
   ],
   "source": [
    "X"
   ]
  },
  {
   "cell_type": "code",
   "execution_count": 41,
   "metadata": {},
   "outputs": [],
   "source": [
    "emb_X = embedding_output(X)"
   ]
  },
  {
   "cell_type": "code",
   "execution_count": 42,
   "metadata": {},
   "outputs": [
    {
     "data": {
      "text/plain": [
       "0    [happy]\n",
       "dtype: object"
      ]
     },
     "execution_count": 42,
     "metadata": {},
     "output_type": "execute_result"
    }
   ],
   "source": [
    "X"
   ]
  },
  {
   "cell_type": "code",
   "execution_count": 43,
   "metadata": {},
   "outputs": [],
   "source": [
    "p = m.predict_classes(emb_X)"
   ]
  },
  {
   "cell_type": "code",
   "execution_count": 44,
   "metadata": {},
   "outputs": [
    {
     "name": "stdout",
     "output_type": "stream",
     "text": [
      "happy\n",
      "😃\n"
     ]
    }
   ],
   "source": [
    "\n",
    "print(' '.join(X[0]))\n",
    "print(emoji.emojize(emoji_dictionary[str(p[0])]))"
   ]
  },
  {
   "cell_type": "code",
   "execution_count": null,
   "metadata": {},
   "outputs": [],
   "source": []
  },
  {
   "cell_type": "code",
   "execution_count": null,
   "metadata": {},
   "outputs": [],
   "source": []
  }
 ],
 "metadata": {
  "kernelspec": {
   "display_name": "Python 3",
   "language": "python",
   "name": "python3"
  },
  "language_info": {
   "codemirror_mode": {
    "name": "ipython",
    "version": 3
   },
   "file_extension": ".py",
   "mimetype": "text/x-python",
   "name": "python",
   "nbconvert_exporter": "python",
   "pygments_lexer": "ipython3",
   "version": "3.7.4"
  }
 },
 "nbformat": 4,
 "nbformat_minor": 2
}
