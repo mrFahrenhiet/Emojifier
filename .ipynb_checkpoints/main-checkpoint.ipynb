{
 "cells": [
  {
   "cell_type": "code",
   "execution_count": 1,
   "metadata": {},
   "outputs": [],
   "source": [
    "import emoji"
   ]
  },
  {
   "cell_type": "code",
   "execution_count": 2,
   "metadata": {},
   "outputs": [
    {
     "data": {
      "text/plain": [
       "'😃'"
      ]
     },
     "execution_count": 2,
     "metadata": {},
     "output_type": "execute_result"
    }
   ],
   "source": [
    "emoji.EMOJI_UNICODE[\":grinning_face_with_big_eyes:\"]"
   ]
  },
  {
   "cell_type": "code",
   "execution_count": 3,
   "metadata": {},
   "outputs": [],
   "source": [
    "emoji_dictionary = {\n",
    "    \"0\":\"\\u2764\\uFE0F\",\n",
    "    \"1\":\":baseball:\",\n",
    "    \"2\":\":grinning_face_with_big_eyes:\",\n",
    "    \"3\":\":disappointed_face:\",\n",
    "    \"4\":\":fork_and_knife:\"\n",
    "}"
   ]
  },
  {
   "cell_type": "code",
   "execution_count": 4,
   "metadata": {},
   "outputs": [],
   "source": [
    "import pandas as pd\n",
    "import numpy as np"
   ]
  },
  {
   "cell_type": "code",
   "execution_count": 5,
   "metadata": {},
   "outputs": [],
   "source": [
    "dfT = pd.read_csv('./train_emoji.csv',header=None)"
   ]
  },
  {
   "cell_type": "code",
   "execution_count": 6,
   "metadata": {},
   "outputs": [
    {
     "data": {
      "text/html": [
       "<div>\n",
       "<style scoped>\n",
       "    .dataframe tbody tr th:only-of-type {\n",
       "        vertical-align: middle;\n",
       "    }\n",
       "\n",
       "    .dataframe tbody tr th {\n",
       "        vertical-align: top;\n",
       "    }\n",
       "\n",
       "    .dataframe thead th {\n",
       "        text-align: right;\n",
       "    }\n",
       "</style>\n",
       "<table border=\"1\" class=\"dataframe\">\n",
       "  <thead>\n",
       "    <tr style=\"text-align: right;\">\n",
       "      <th></th>\n",
       "      <th>0</th>\n",
       "      <th>1</th>\n",
       "      <th>2</th>\n",
       "      <th>3</th>\n",
       "    </tr>\n",
       "  </thead>\n",
       "  <tbody>\n",
       "    <tr>\n",
       "      <td>0</td>\n",
       "      <td>never talk to me again</td>\n",
       "      <td>3</td>\n",
       "      <td>NaN</td>\n",
       "      <td>NaN</td>\n",
       "    </tr>\n",
       "    <tr>\n",
       "      <td>1</td>\n",
       "      <td>I am proud of your achievements</td>\n",
       "      <td>2</td>\n",
       "      <td>NaN</td>\n",
       "      <td>NaN</td>\n",
       "    </tr>\n",
       "    <tr>\n",
       "      <td>2</td>\n",
       "      <td>It is the worst day in my life</td>\n",
       "      <td>3</td>\n",
       "      <td>NaN</td>\n",
       "      <td>NaN</td>\n",
       "    </tr>\n",
       "    <tr>\n",
       "      <td>3</td>\n",
       "      <td>Miss you so much</td>\n",
       "      <td>0</td>\n",
       "      <td>NaN</td>\n",
       "      <td>[0]</td>\n",
       "    </tr>\n",
       "    <tr>\n",
       "      <td>4</td>\n",
       "      <td>food is life</td>\n",
       "      <td>4</td>\n",
       "      <td>NaN</td>\n",
       "      <td>NaN</td>\n",
       "    </tr>\n",
       "    <tr>\n",
       "      <td>...</td>\n",
       "      <td>...</td>\n",
       "      <td>...</td>\n",
       "      <td>...</td>\n",
       "      <td>...</td>\n",
       "    </tr>\n",
       "    <tr>\n",
       "      <td>127</td>\n",
       "      <td>he had to make a home run</td>\n",
       "      <td>1</td>\n",
       "      <td>NaN</td>\n",
       "      <td>NaN</td>\n",
       "    </tr>\n",
       "    <tr>\n",
       "      <td>128</td>\n",
       "      <td>I am ordering food</td>\n",
       "      <td>4</td>\n",
       "      <td>NaN</td>\n",
       "      <td>NaN</td>\n",
       "    </tr>\n",
       "    <tr>\n",
       "      <td>129</td>\n",
       "      <td>What is wrong with you</td>\n",
       "      <td>3</td>\n",
       "      <td>NaN</td>\n",
       "      <td>NaN</td>\n",
       "    </tr>\n",
       "    <tr>\n",
       "      <td>130</td>\n",
       "      <td>I love you</td>\n",
       "      <td>0</td>\n",
       "      <td>NaN</td>\n",
       "      <td>NaN</td>\n",
       "    </tr>\n",
       "    <tr>\n",
       "      <td>131</td>\n",
       "      <td>great job</td>\n",
       "      <td>2</td>\n",
       "      <td>NaN</td>\n",
       "      <td>NaN</td>\n",
       "    </tr>\n",
       "  </tbody>\n",
       "</table>\n",
       "<p>132 rows × 4 columns</p>\n",
       "</div>"
      ],
      "text/plain": [
       "                                   0  1   2     3\n",
       "0             never talk to me again  3 NaN   NaN\n",
       "1    I am proud of your achievements  2 NaN   NaN\n",
       "2     It is the worst day in my life  3 NaN   NaN\n",
       "3                   Miss you so much  0 NaN   [0]\n",
       "4                       food is life  4 NaN   NaN\n",
       "..                               ... ..  ..   ...\n",
       "127        he had to make a home run  1 NaN   NaN\n",
       "128               I am ordering food  4 NaN   NaN\n",
       "129           What is wrong with you  3 NaN   NaN\n",
       "130                       I love you  0 NaN   NaN\n",
       "131                        great job  2 NaN   NaN\n",
       "\n",
       "[132 rows x 4 columns]"
      ]
     },
     "execution_count": 6,
     "metadata": {},
     "output_type": "execute_result"
    }
   ],
   "source": [
    "dfT"
   ]
  },
  {
   "cell_type": "code",
   "execution_count": 7,
   "metadata": {},
   "outputs": [
    {
     "data": {
      "text/plain": [
       "(132,)"
      ]
     },
     "execution_count": 7,
     "metadata": {},
     "output_type": "execute_result"
    }
   ],
   "source": [
    "X = dfT.values[:,0]\n",
    "X.shape"
   ]
  },
  {
   "cell_type": "code",
   "execution_count": 8,
   "metadata": {},
   "outputs": [
    {
     "data": {
      "text/plain": [
       "(132,)"
      ]
     },
     "execution_count": 8,
     "metadata": {},
     "output_type": "execute_result"
    }
   ],
   "source": [
    "Y = dfT.values[:,1]\n",
    "Y.shape"
   ]
  },
  {
   "cell_type": "code",
   "execution_count": 9,
   "metadata": {},
   "outputs": [
    {
     "name": "stdout",
     "output_type": "stream",
     "text": [
      "never talk to me again 😞\n",
      "I am proud of your achievements 😃\n",
      "It is the worst day in my life 😞\n",
      "Miss you so much ❤️\n",
      "food is life 🍴\n",
      "I love you mum ❤️\n",
      "Stop saying bullshit 😞\n",
      "congratulations on your acceptance 😃\n",
      "The assignment is too long  😞\n",
      "I want to go play ⚾\n"
     ]
    }
   ],
   "source": [
    "for i in range(10):\n",
    "    print(X[i],emoji.emojize(emoji_dictionary[str(Y[i])]))"
   ]
  },
  {
   "cell_type": "code",
   "execution_count": 10,
   "metadata": {},
   "outputs": [],
   "source": [
    "embedding_idx = {}"
   ]
  },
  {
   "cell_type": "code",
   "execution_count": 11,
   "metadata": {},
   "outputs": [],
   "source": [
    "with open('./glove.6B.50d.txt',encoding='utf-8') as f:\n",
    "    for line in f:\n",
    "        value = line.split()\n",
    "        word= value[0]\n",
    "        coef= np.asarray(value[1:],dtype='float')\n",
    "        embedding_idx[word] = coef\n",
    "        \n",
    "        "
   ]
  },
  {
   "cell_type": "code",
   "execution_count": 12,
   "metadata": {},
   "outputs": [
    {
     "name": "stdout",
     "output_type": "stream",
     "text": [
      "50\n"
     ]
    }
   ],
   "source": [
    "emdIdx = embedding_idx[':'].shape[0]\n",
    "print(emdIdx)"
   ]
  },
  {
   "cell_type": "code",
   "execution_count": 13,
   "metadata": {},
   "outputs": [],
   "source": [
    "def embedding_output(X):\n",
    "    max_len = 10\n",
    "    embedding_out = np.zeros((X.shape[0],max_len,emdIdx))\n",
    "    \n",
    "    for ix in range(X.shape[0]):\n",
    "        X[ix] = X[ix].split()\n",
    "        for jx in range(len(X[ix])):\n",
    "            try:\n",
    "                embedding_out[ix][jx] = embedding_idx[X[ix][jx].lower()]\n",
    "            except:\n",
    "                embedding_out[ix][jx] = np.zeros((50,))\n",
    "    return embedding_out"
   ]
  },
  {
   "cell_type": "code",
   "execution_count": 14,
   "metadata": {},
   "outputs": [],
   "source": [
    "embedding_mat_train = embedding_output(X)"
   ]
  },
  {
   "cell_type": "code",
   "execution_count": 15,
   "metadata": {},
   "outputs": [
    {
     "data": {
      "text/plain": [
       "['she', 'did', 'not', 'answer', 'my', 'text']"
      ]
     },
     "execution_count": 15,
     "metadata": {},
     "output_type": "execute_result"
    }
   ],
   "source": [
    "X[10]"
   ]
  },
  {
   "cell_type": "code",
   "execution_count": 16,
   "metadata": {},
   "outputs": [
    {
     "data": {
      "text/plain": [
       "['how', 'many', 'points', 'did', 'he', 'score']"
      ]
     },
     "execution_count": 16,
     "metadata": {},
     "output_type": "execute_result"
    }
   ],
   "source": [
    "X[12]"
   ]
  },
  {
   "cell_type": "code",
   "execution_count": 17,
   "metadata": {},
   "outputs": [
    {
     "data": {
      "text/plain": [
       "(132, 10, 50)"
      ]
     },
     "execution_count": 17,
     "metadata": {},
     "output_type": "execute_result"
    }
   ],
   "source": [
    "embedding_mat_train.shape"
   ]
  },
  {
   "cell_type": "markdown",
   "metadata": {},
   "source": [
    "## **Simple LSTM Model**"
   ]
  },
  {
   "cell_type": "code",
   "execution_count": 146,
   "metadata": {},
   "outputs": [],
   "source": [
    "from keras.models import Sequential\n",
    "from keras.layers import LSTM,Dense,Activation,Dropout"
   ]
  },
  {
   "cell_type": "code",
   "execution_count": 170,
   "metadata": {},
   "outputs": [],
   "source": [
    "m = Sequential()"
   ]
  },
  {
   "cell_type": "code",
   "execution_count": 171,
   "metadata": {},
   "outputs": [
    {
     "name": "stdout",
     "output_type": "stream",
     "text": [
      "Model: \"sequential_14\"\n",
      "_________________________________________________________________\n",
      "Layer (type)                 Output Shape              Param #   \n",
      "=================================================================\n",
      "lstm_23 (LSTM)               (None, 10, 64)            29440     \n",
      "_________________________________________________________________\n",
      "dropout_10 (Dropout)         (None, 10, 64)            0         \n",
      "_________________________________________________________________\n",
      "lstm_24 (LSTM)               (None, 64)                33024     \n",
      "_________________________________________________________________\n",
      "dense_14 (Dense)             (None, 5)                 325       \n",
      "_________________________________________________________________\n",
      "activation_14 (Activation)   (None, 5)                 0         \n",
      "=================================================================\n",
      "Total params: 62,789\n",
      "Trainable params: 62,789\n",
      "Non-trainable params: 0\n",
      "_________________________________________________________________\n"
     ]
    }
   ],
   "source": [
    "m.add(LSTM(64,input_shape=(10,50),return_sequences=True))\n",
    "m.add(Dropout(0.5))\n",
    "m.add(LSTM(64,return_sequences=False))\n",
    "m.add(Dense(5))\n",
    "m.add(Activation('softmax'))\n",
    "m.compile(optimizer='adam',loss='categorical_crossentropy',metrics=['acc'])\n",
    "m.summary()"
   ]
  },
  {
   "cell_type": "code",
   "execution_count": 172,
   "metadata": {},
   "outputs": [],
   "source": [
    "from keras.utils import to_categorical"
   ]
  },
  {
   "cell_type": "code",
   "execution_count": 173,
   "metadata": {},
   "outputs": [
    {
     "data": {
      "text/plain": [
       "(132, 5)"
      ]
     },
     "execution_count": 173,
     "metadata": {},
     "output_type": "execute_result"
    }
   ],
   "source": [
    "Y_train = to_categorical(Y)\n",
    "Y_train.shape"
   ]
  },
  {
   "cell_type": "code",
   "execution_count": null,
   "metadata": {},
   "outputs": [],
   "source": []
  },
  {
   "cell_type": "code",
   "execution_count": 174,
   "metadata": {},
   "outputs": [],
   "source": [
    "from keras.callbacks import ModelCheckpoint\n",
    "from keras.callbacks import EarlyStopping"
   ]
  },
  {
   "cell_type": "code",
   "execution_count": 175,
   "metadata": {},
   "outputs": [],
   "source": [
    "checkpt = ModelCheckpoint(save_best_only=True,monitor='val_loss',mode='auto',period=1,filepath=\"best_model.h5\")\n",
    "early = EarlyStopping(monitor='val_loss',patience=100)"
   ]
  },
  {
   "cell_type": "code",
   "execution_count": 176,
   "metadata": {
    "scrolled": true
   },
   "outputs": [
    {
     "name": "stdout",
     "output_type": "stream",
     "text": [
      "Train on 105 samples, validate on 27 samples\n",
      "Epoch 1/500\n",
      "105/105 [==============================] - 1s 5ms/step - loss: 1.6057 - acc: 0.2286 - val_loss: 1.6000 - val_acc: 0.2222\n",
      "Epoch 2/500\n",
      "105/105 [==============================] - 0s 209us/step - loss: 1.5618 - acc: 0.3524 - val_loss: 1.6093 - val_acc: 0.2222\n",
      "Epoch 3/500\n",
      "105/105 [==============================] - 0s 228us/step - loss: 1.5204 - acc: 0.3905 - val_loss: 1.6338 - val_acc: 0.2593\n",
      "Epoch 4/500\n",
      "105/105 [==============================] - 0s 256us/step - loss: 1.4831 - acc: 0.4571 - val_loss: 1.6725 - val_acc: 0.2222\n",
      "Epoch 5/500\n",
      "105/105 [==============================] - 0s 256us/step - loss: 1.4469 - acc: 0.4476 - val_loss: 1.7159 - val_acc: 0.2222\n",
      "Epoch 6/500\n",
      "105/105 [==============================] - 0s 237us/step - loss: 1.4144 - acc: 0.4857 - val_loss: 1.7383 - val_acc: 0.2222\n",
      "Epoch 7/500\n",
      "105/105 [==============================] - 0s 237us/step - loss: 1.3904 - acc: 0.5048 - val_loss: 1.7215 - val_acc: 0.2222\n",
      "Epoch 8/500\n",
      "105/105 [==============================] - 0s 237us/step - loss: 1.3422 - acc: 0.5238 - val_loss: 1.6672 - val_acc: 0.2222\n",
      "Epoch 9/500\n",
      "105/105 [==============================] - 0s 247us/step - loss: 1.3039 - acc: 0.5429 - val_loss: 1.5887 - val_acc: 0.2222\n",
      "Epoch 10/500\n",
      "105/105 [==============================] - 0s 228us/step - loss: 1.2481 - acc: 0.6095 - val_loss: 1.5023 - val_acc: 0.2222\n",
      "Epoch 11/500\n",
      "105/105 [==============================] - 0s 237us/step - loss: 1.1954 - acc: 0.6095 - val_loss: 1.4274 - val_acc: 0.2593\n",
      "Epoch 12/500\n",
      "105/105 [==============================] - 0s 228us/step - loss: 1.1193 - acc: 0.6571 - val_loss: 1.3739 - val_acc: 0.3333\n",
      "Epoch 13/500\n",
      "105/105 [==============================] - 0s 228us/step - loss: 1.0419 - acc: 0.6571 - val_loss: 1.3410 - val_acc: 0.3704\n",
      "Epoch 14/500\n",
      "105/105 [==============================] - 0s 237us/step - loss: 0.9590 - acc: 0.6952 - val_loss: 1.3215 - val_acc: 0.4074\n",
      "Epoch 15/500\n",
      "105/105 [==============================] - 0s 218us/step - loss: 0.8850 - acc: 0.6952 - val_loss: 1.3061 - val_acc: 0.4074\n",
      "Epoch 16/500\n",
      "105/105 [==============================] - 0s 218us/step - loss: 0.8105 - acc: 0.7238 - val_loss: 1.2601 - val_acc: 0.4815\n",
      "Epoch 17/500\n",
      "105/105 [==============================] - 0s 228us/step - loss: 0.7413 - acc: 0.7333 - val_loss: 1.2050 - val_acc: 0.5185\n",
      "Epoch 18/500\n",
      "105/105 [==============================] - 0s 228us/step - loss: 0.6745 - acc: 0.7810 - val_loss: 1.1573 - val_acc: 0.5185\n",
      "Epoch 19/500\n",
      "105/105 [==============================] - 0s 228us/step - loss: 0.6337 - acc: 0.8095 - val_loss: 1.1720 - val_acc: 0.5926\n",
      "Epoch 20/500\n",
      "105/105 [==============================] - 0s 228us/step - loss: 0.5811 - acc: 0.8190 - val_loss: 1.1602 - val_acc: 0.6296\n",
      "Epoch 21/500\n",
      "105/105 [==============================] - 0s 218us/step - loss: 0.5679 - acc: 0.8095 - val_loss: 1.2058 - val_acc: 0.6296\n",
      "Epoch 22/500\n",
      "105/105 [==============================] - 0s 228us/step - loss: 0.4610 - acc: 0.8476 - val_loss: 1.1564 - val_acc: 0.6296\n",
      "Epoch 23/500\n",
      "105/105 [==============================] - 0s 228us/step - loss: 0.4362 - acc: 0.8571 - val_loss: 1.1328 - val_acc: 0.5926\n",
      "Epoch 24/500\n",
      "105/105 [==============================] - 0s 237us/step - loss: 0.3775 - acc: 0.8667 - val_loss: 1.1607 - val_acc: 0.5926\n",
      "Epoch 25/500\n",
      "105/105 [==============================] - 0s 228us/step - loss: 0.3217 - acc: 0.9048 - val_loss: 1.1177 - val_acc: 0.6296\n",
      "Epoch 26/500\n",
      "105/105 [==============================] - 0s 228us/step - loss: 0.3357 - acc: 0.8857 - val_loss: 1.1509 - val_acc: 0.6667\n",
      "Epoch 27/500\n",
      "105/105 [==============================] - 0s 228us/step - loss: 0.2488 - acc: 0.9429 - val_loss: 1.2342 - val_acc: 0.6296\n",
      "Epoch 28/500\n",
      "105/105 [==============================] - 0s 218us/step - loss: 0.2909 - acc: 0.8857 - val_loss: 1.2808 - val_acc: 0.6667\n",
      "Epoch 29/500\n",
      "105/105 [==============================] - 0s 228us/step - loss: 0.2760 - acc: 0.9143 - val_loss: 1.3255 - val_acc: 0.5185\n",
      "Epoch 30/500\n",
      "105/105 [==============================] - 0s 218us/step - loss: 0.2535 - acc: 0.9143 - val_loss: 1.2352 - val_acc: 0.6296\n",
      "Epoch 31/500\n",
      "105/105 [==============================] - 0s 247us/step - loss: 0.1685 - acc: 0.9524 - val_loss: 1.2110 - val_acc: 0.7037\n",
      "Epoch 32/500\n",
      "105/105 [==============================] - 0s 247us/step - loss: 0.1564 - acc: 0.9619 - val_loss: 1.1487 - val_acc: 0.6296\n",
      "Epoch 33/500\n",
      "105/105 [==============================] - 0s 228us/step - loss: 0.1377 - acc: 0.9619 - val_loss: 1.1508 - val_acc: 0.6296\n",
      "Epoch 34/500\n",
      "105/105 [==============================] - 0s 218us/step - loss: 0.1460 - acc: 0.9333 - val_loss: 1.1451 - val_acc: 0.6667\n",
      "Epoch 35/500\n",
      "105/105 [==============================] - ETA: 0s - loss: 0.1587 - acc: 0.953 - 0s 228us/step - loss: 0.1168 - acc: 0.9714 - val_loss: 1.1713 - val_acc: 0.6296\n",
      "Epoch 36/500\n",
      "105/105 [==============================] - 0s 218us/step - loss: 0.1136 - acc: 0.9619 - val_loss: 1.1487 - val_acc: 0.6667\n",
      "Epoch 37/500\n",
      "105/105 [==============================] - 0s 228us/step - loss: 0.0792 - acc: 0.9810 - val_loss: 1.2688 - val_acc: 0.6296\n",
      "Epoch 38/500\n",
      "105/105 [==============================] - 0s 228us/step - loss: 0.0727 - acc: 0.9810 - val_loss: 1.2209 - val_acc: 0.6667\n",
      "Epoch 39/500\n",
      "105/105 [==============================] - 0s 218us/step - loss: 0.0537 - acc: 0.9905 - val_loss: 1.2284 - val_acc: 0.7037\n",
      "Epoch 40/500\n",
      "105/105 [==============================] - 0s 228us/step - loss: 0.0859 - acc: 0.9619 - val_loss: 1.2538 - val_acc: 0.6296\n",
      "Epoch 41/500\n",
      "105/105 [==============================] - 0s 209us/step - loss: 0.0937 - acc: 0.9619 - val_loss: 1.3380 - val_acc: 0.6296\n",
      "Epoch 42/500\n",
      "105/105 [==============================] - 0s 228us/step - loss: 0.0876 - acc: 0.9810 - val_loss: 1.3162 - val_acc: 0.6667\n",
      "Epoch 43/500\n",
      "105/105 [==============================] - 0s 218us/step - loss: 0.0382 - acc: 1.0000 - val_loss: 1.4011 - val_acc: 0.7037\n",
      "Epoch 44/500\n",
      "105/105 [==============================] - 0s 218us/step - loss: 0.1115 - acc: 0.9238 - val_loss: 1.6787 - val_acc: 0.5556\n",
      "Epoch 45/500\n",
      "105/105 [==============================] - 0s 218us/step - loss: 0.1225 - acc: 0.9619 - val_loss: 1.6879 - val_acc: 0.6667\n",
      "Epoch 46/500\n",
      "105/105 [==============================] - 0s 218us/step - loss: 0.0631 - acc: 0.9905 - val_loss: 1.3998 - val_acc: 0.5926\n",
      "Epoch 47/500\n",
      "105/105 [==============================] - 0s 228us/step - loss: 0.0781 - acc: 0.9905 - val_loss: 1.2962 - val_acc: 0.6667\n",
      "Epoch 48/500\n",
      "105/105 [==============================] - 0s 228us/step - loss: 0.0531 - acc: 0.9905 - val_loss: 1.4146 - val_acc: 0.6296\n",
      "Epoch 49/500\n",
      "105/105 [==============================] - 0s 218us/step - loss: 0.1471 - acc: 0.9619 - val_loss: 1.3974 - val_acc: 0.5556\n",
      "Epoch 50/500\n",
      "105/105 [==============================] - 0s 228us/step - loss: 0.0379 - acc: 0.9905 - val_loss: 1.4306 - val_acc: 0.6667\n",
      "Epoch 51/500\n",
      "105/105 [==============================] - 0s 218us/step - loss: 0.0371 - acc: 1.0000 - val_loss: 1.5486 - val_acc: 0.6667\n",
      "Epoch 52/500\n",
      "105/105 [==============================] - 0s 218us/step - loss: 0.0996 - acc: 0.9524 - val_loss: 1.4945 - val_acc: 0.5556\n",
      "Epoch 53/500\n",
      "105/105 [==============================] - 0s 218us/step - loss: 0.0403 - acc: 0.9905 - val_loss: 1.5680 - val_acc: 0.5556\n",
      "Epoch 54/500\n",
      "105/105 [==============================] - 0s 228us/step - loss: 0.0334 - acc: 1.0000 - val_loss: 1.2436 - val_acc: 0.5926\n",
      "Epoch 55/500\n",
      "105/105 [==============================] - 0s 218us/step - loss: 0.0227 - acc: 1.0000 - val_loss: 1.2037 - val_acc: 0.7037\n",
      "Epoch 56/500\n",
      "105/105 [==============================] - 0s 218us/step - loss: 0.0241 - acc: 1.0000 - val_loss: 1.3708 - val_acc: 0.6296\n",
      "Epoch 57/500\n",
      "105/105 [==============================] - 0s 218us/step - loss: 0.0445 - acc: 0.9905 - val_loss: 1.2316 - val_acc: 0.7037\n",
      "Epoch 58/500\n",
      "105/105 [==============================] - 0s 237us/step - loss: 0.0171 - acc: 1.0000 - val_loss: 1.2801 - val_acc: 0.6667\n",
      "Epoch 59/500\n",
      "105/105 [==============================] - 0s 209us/step - loss: 0.0194 - acc: 1.0000 - val_loss: 1.3706 - val_acc: 0.5926\n",
      "Epoch 60/500\n",
      "105/105 [==============================] - 0s 218us/step - loss: 0.0219 - acc: 1.0000 - val_loss: 1.3923 - val_acc: 0.5556\n"
     ]
    },
    {
     "name": "stdout",
     "output_type": "stream",
     "text": [
      "Epoch 61/500\n",
      "105/105 [==============================] - 0s 199us/step - loss: 0.0250 - acc: 0.9905 - val_loss: 1.2720 - val_acc: 0.7037\n",
      "Epoch 62/500\n",
      "105/105 [==============================] - 0s 218us/step - loss: 0.0124 - acc: 1.0000 - val_loss: 1.3142 - val_acc: 0.6667\n",
      "Epoch 63/500\n",
      "105/105 [==============================] - 0s 209us/step - loss: 0.0123 - acc: 1.0000 - val_loss: 1.3858 - val_acc: 0.7037\n",
      "Epoch 64/500\n",
      "105/105 [==============================] - 0s 228us/step - loss: 0.0141 - acc: 1.0000 - val_loss: 1.4204 - val_acc: 0.7037\n",
      "Epoch 65/500\n",
      "105/105 [==============================] - 0s 199us/step - loss: 0.0155 - acc: 1.0000 - val_loss: 1.4130 - val_acc: 0.7037\n",
      "Epoch 66/500\n",
      "105/105 [==============================] - 0s 218us/step - loss: 0.0109 - acc: 1.0000 - val_loss: 1.3961 - val_acc: 0.6667\n",
      "Epoch 67/500\n",
      "105/105 [==============================] - 0s 209us/step - loss: 0.0103 - acc: 1.0000 - val_loss: 1.3831 - val_acc: 0.6667\n",
      "Epoch 68/500\n",
      "105/105 [==============================] - 0s 209us/step - loss: 0.0093 - acc: 1.0000 - val_loss: 1.3867 - val_acc: 0.6667\n",
      "Epoch 69/500\n",
      "105/105 [==============================] - 0s 218us/step - loss: 0.0120 - acc: 1.0000 - val_loss: 1.3898 - val_acc: 0.6296\n",
      "Epoch 70/500\n",
      "105/105 [==============================] - 0s 209us/step - loss: 0.0119 - acc: 1.0000 - val_loss: 1.3779 - val_acc: 0.6667\n",
      "Epoch 71/500\n",
      "105/105 [==============================] - 0s 219us/step - loss: 0.0085 - acc: 1.0000 - val_loss: 1.3767 - val_acc: 0.6667\n",
      "Epoch 72/500\n",
      "105/105 [==============================] - 0s 199us/step - loss: 0.0073 - acc: 1.0000 - val_loss: 1.3839 - val_acc: 0.6667\n",
      "Epoch 73/500\n",
      "105/105 [==============================] - 0s 228us/step - loss: 0.0087 - acc: 1.0000 - val_loss: 1.3960 - val_acc: 0.6667\n",
      "Epoch 74/500\n",
      "105/105 [==============================] - 0s 209us/step - loss: 0.0092 - acc: 1.0000 - val_loss: 1.4142 - val_acc: 0.6667\n",
      "Epoch 75/500\n",
      "105/105 [==============================] - 0s 218us/step - loss: 0.0066 - acc: 1.0000 - val_loss: 1.4326 - val_acc: 0.6667\n",
      "Epoch 76/500\n",
      "105/105 [==============================] - 0s 218us/step - loss: 0.0079 - acc: 1.0000 - val_loss: 1.4370 - val_acc: 0.6667\n",
      "Epoch 77/500\n",
      "105/105 [==============================] - 0s 218us/step - loss: 0.0060 - acc: 1.0000 - val_loss: 1.4358 - val_acc: 0.6667\n",
      "Epoch 78/500\n",
      "105/105 [==============================] - 0s 218us/step - loss: 0.0068 - acc: 1.0000 - val_loss: 1.4337 - val_acc: 0.6667\n",
      "Epoch 79/500\n",
      "105/105 [==============================] - 0s 209us/step - loss: 0.0066 - acc: 1.0000 - val_loss: 1.4385 - val_acc: 0.6667\n",
      "Epoch 80/500\n",
      "105/105 [==============================] - 0s 228us/step - loss: 0.0055 - acc: 1.0000 - val_loss: 1.4512 - val_acc: 0.7037\n",
      "Epoch 81/500\n",
      "105/105 [==============================] - 0s 199us/step - loss: 0.0053 - acc: 1.0000 - val_loss: 1.4631 - val_acc: 0.7037\n",
      "Epoch 82/500\n",
      "105/105 [==============================] - 0s 218us/step - loss: 0.0057 - acc: 1.0000 - val_loss: 1.4653 - val_acc: 0.7037\n",
      "Epoch 83/500\n",
      "105/105 [==============================] - 0s 209us/step - loss: 0.0052 - acc: 1.0000 - val_loss: 1.4641 - val_acc: 0.7037\n",
      "Epoch 84/500\n",
      "105/105 [==============================] - 0s 218us/step - loss: 0.0059 - acc: 1.0000 - val_loss: 1.4640 - val_acc: 0.7037\n",
      "Epoch 85/500\n",
      "105/105 [==============================] - 0s 209us/step - loss: 0.0051 - acc: 1.0000 - val_loss: 1.4649 - val_acc: 0.7037\n",
      "Epoch 86/500\n",
      "105/105 [==============================] - 0s 218us/step - loss: 0.0053 - acc: 1.0000 - val_loss: 1.4677 - val_acc: 0.7037\n",
      "Epoch 87/500\n",
      "105/105 [==============================] - 0s 218us/step - loss: 0.0057 - acc: 1.0000 - val_loss: 1.4686 - val_acc: 0.7037\n",
      "Epoch 88/500\n",
      "105/105 [==============================] - 0s 209us/step - loss: 0.0056 - acc: 1.0000 - val_loss: 1.4726 - val_acc: 0.6667\n",
      "Epoch 89/500\n",
      "105/105 [==============================] - 0s 218us/step - loss: 0.0053 - acc: 1.0000 - val_loss: 1.4780 - val_acc: 0.6667\n",
      "Epoch 90/500\n",
      "105/105 [==============================] - 0s 209us/step - loss: 0.0053 - acc: 1.0000 - val_loss: 1.4828 - val_acc: 0.6667\n",
      "Epoch 91/500\n",
      "105/105 [==============================] - 0s 256us/step - loss: 0.0044 - acc: 1.0000 - val_loss: 1.4893 - val_acc: 0.6667\n",
      "Epoch 92/500\n",
      "105/105 [==============================] - 0s 247us/step - loss: 0.0042 - acc: 1.0000 - val_loss: 1.4962 - val_acc: 0.6667\n",
      "Epoch 93/500\n",
      "105/105 [==============================] - 0s 218us/step - loss: 0.0045 - acc: 1.0000 - val_loss: 1.5004 - val_acc: 0.6667\n",
      "Epoch 94/500\n",
      "105/105 [==============================] - 0s 199us/step - loss: 0.0040 - acc: 1.0000 - val_loss: 1.5038 - val_acc: 0.6667\n",
      "Epoch 95/500\n",
      "105/105 [==============================] - 0s 219us/step - loss: 0.0043 - acc: 1.0000 - val_loss: 1.5060 - val_acc: 0.6667\n",
      "Epoch 96/500\n",
      "105/105 [==============================] - 0s 218us/step - loss: 0.0040 - acc: 1.0000 - val_loss: 1.5079 - val_acc: 0.6667\n",
      "Epoch 97/500\n",
      "105/105 [==============================] - 0s 218us/step - loss: 0.0043 - acc: 1.0000 - val_loss: 1.5111 - val_acc: 0.6667\n",
      "Epoch 98/500\n",
      "105/105 [==============================] - 0s 209us/step - loss: 0.0039 - acc: 1.0000 - val_loss: 1.5141 - val_acc: 0.6667\n",
      "Epoch 99/500\n",
      "105/105 [==============================] - 0s 209us/step - loss: 0.0040 - acc: 1.0000 - val_loss: 1.5181 - val_acc: 0.6667\n",
      "Epoch 100/500\n",
      "105/105 [==============================] - 0s 209us/step - loss: 0.0048 - acc: 1.0000 - val_loss: 1.5166 - val_acc: 0.6667\n",
      "Epoch 101/500\n",
      "105/105 [==============================] - 0s 218us/step - loss: 0.0036 - acc: 1.0000 - val_loss: 1.5192 - val_acc: 0.6667\n",
      "Epoch 102/500\n",
      "105/105 [==============================] - 0s 218us/step - loss: 0.0038 - acc: 1.0000 - val_loss: 1.5220 - val_acc: 0.6667\n",
      "Epoch 103/500\n",
      "105/105 [==============================] - 0s 209us/step - loss: 0.0036 - acc: 1.0000 - val_loss: 1.5276 - val_acc: 0.6667\n",
      "Epoch 104/500\n",
      "105/105 [==============================] - 0s 209us/step - loss: 0.0036 - acc: 1.0000 - val_loss: 1.5328 - val_acc: 0.6667\n",
      "Epoch 105/500\n",
      "105/105 [==============================] - 0s 218us/step - loss: 0.0053 - acc: 1.0000 - val_loss: 1.5205 - val_acc: 0.6667\n",
      "Epoch 106/500\n",
      "105/105 [==============================] - 0s 209us/step - loss: 0.0040 - acc: 1.0000 - val_loss: 1.5092 - val_acc: 0.6296\n",
      "Epoch 107/500\n",
      "105/105 [==============================] - 0s 209us/step - loss: 0.0032 - acc: 1.0000 - val_loss: 1.5046 - val_acc: 0.6296\n",
      "Epoch 108/500\n",
      "105/105 [==============================] - 0s 209us/step - loss: 0.0077 - acc: 1.0000 - val_loss: 1.5127 - val_acc: 0.6296\n",
      "Epoch 109/500\n",
      "105/105 [==============================] - 0s 218us/step - loss: 0.0031 - acc: 1.0000 - val_loss: 1.5544 - val_acc: 0.6667\n",
      "Epoch 110/500\n",
      "105/105 [==============================] - 0s 218us/step - loss: 0.0055 - acc: 1.0000 - val_loss: 1.5700 - val_acc: 0.6667\n",
      "Epoch 111/500\n",
      "105/105 [==============================] - 0s 218us/step - loss: 0.0070 - acc: 1.0000 - val_loss: 1.5472 - val_acc: 0.6667\n",
      "Epoch 112/500\n",
      "105/105 [==============================] - 0s 199us/step - loss: 0.0043 - acc: 1.0000 - val_loss: 1.4980 - val_acc: 0.6667\n",
      "Epoch 113/500\n",
      "105/105 [==============================] - 0s 218us/step - loss: 0.0054 - acc: 1.0000 - val_loss: 1.3998 - val_acc: 0.6296\n",
      "Epoch 114/500\n",
      "105/105 [==============================] - 0s 209us/step - loss: 0.0027 - acc: 1.0000 - val_loss: 1.3626 - val_acc: 0.6667\n",
      "Epoch 115/500\n",
      "105/105 [==============================] - 0s 199us/step - loss: 0.0033 - acc: 1.0000 - val_loss: 1.3741 - val_acc: 0.6667\n",
      "Epoch 116/500\n",
      "105/105 [==============================] - 0s 218us/step - loss: 0.0048 - acc: 1.0000 - val_loss: 1.3552 - val_acc: 0.6296\n",
      "Epoch 117/500\n",
      "105/105 [==============================] - 0s 218us/step - loss: 0.0048 - acc: 1.0000 - val_loss: 1.3332 - val_acc: 0.6667\n",
      "Epoch 118/500\n",
      "105/105 [==============================] - 0s 219us/step - loss: 0.0030 - acc: 1.0000 - val_loss: 1.3356 - val_acc: 0.6667\n",
      "Epoch 119/500\n",
      "105/105 [==============================] - 0s 209us/step - loss: 0.0029 - acc: 1.0000 - val_loss: 1.3582 - val_acc: 0.7037\n",
      "Epoch 120/500\n",
      "105/105 [==============================] - 0s 209us/step - loss: 0.0024 - acc: 1.0000 - val_loss: 1.3885 - val_acc: 0.7037\n",
      "Epoch 121/500\n"
     ]
    },
    {
     "name": "stdout",
     "output_type": "stream",
     "text": [
      "105/105 [==============================] - 0s 199us/step - loss: 0.0024 - acc: 1.0000 - val_loss: 1.4210 - val_acc: 0.6667\n",
      "Epoch 122/500\n",
      "105/105 [==============================] - 0s 218us/step - loss: 0.0024 - acc: 1.0000 - val_loss: 1.4493 - val_acc: 0.6667\n",
      "Epoch 123/500\n",
      "105/105 [==============================] - 0s 199us/step - loss: 0.0028 - acc: 1.0000 - val_loss: 1.4706 - val_acc: 0.6667\n",
      "Epoch 124/500\n",
      "105/105 [==============================] - 0s 218us/step - loss: 0.0029 - acc: 1.0000 - val_loss: 1.4821 - val_acc: 0.6667\n",
      "Epoch 125/500\n",
      "105/105 [==============================] - 0s 199us/step - loss: 0.0022 - acc: 1.0000 - val_loss: 1.4886 - val_acc: 0.6667\n"
     ]
    }
   ],
   "source": [
    "hist = m.fit(embedding_mat_train,Y_train,epochs=500,batch_size=64,shuffle=False,validation_split=0.2,callbacks=[checkpt,early])"
   ]
  },
  {
   "cell_type": "code",
   "execution_count": 177,
   "metadata": {},
   "outputs": [],
   "source": [
    "m.load_weights('best_model.h5')"
   ]
  },
  {
   "cell_type": "code",
   "execution_count": 178,
   "metadata": {},
   "outputs": [
    {
     "name": "stdout",
     "output_type": "stream",
     "text": [
      "132/132 [==============================] - 0s 128us/step\n"
     ]
    },
    {
     "data": {
      "text/plain": [
       "[0.44371433330304694, 0.8409090638160706]"
      ]
     },
     "execution_count": 178,
     "metadata": {},
     "output_type": "execute_result"
    }
   ],
   "source": [
    "m.evaluate(embedding_mat_train,Y_train)"
   ]
  },
  {
   "cell_type": "code",
   "execution_count": 179,
   "metadata": {
    "scrolled": true
   },
   "outputs": [],
   "source": [
    "dft = pd.read_csv('./test_emoji.csv',header=None)\n"
   ]
  },
  {
   "cell_type": "code",
   "execution_count": 180,
   "metadata": {},
   "outputs": [],
   "source": [
    "Xt = dft.values[:,0]\n",
    "Yt = dft.values[:,1]\n"
   ]
  },
  {
   "cell_type": "code",
   "execution_count": 181,
   "metadata": {},
   "outputs": [],
   "source": [
    "X_test = embedding_output(Xt)"
   ]
  },
  {
   "cell_type": "code",
   "execution_count": 182,
   "metadata": {},
   "outputs": [],
   "source": [
    "Y_test = to_categorical(Yt)"
   ]
  },
  {
   "cell_type": "code",
   "execution_count": 183,
   "metadata": {},
   "outputs": [
    {
     "data": {
      "text/plain": [
       "(56, 5)"
      ]
     },
     "execution_count": 183,
     "metadata": {},
     "output_type": "execute_result"
    }
   ],
   "source": [
    "Y_test.shape"
   ]
  },
  {
   "cell_type": "code",
   "execution_count": 184,
   "metadata": {},
   "outputs": [
    {
     "name": "stdout",
     "output_type": "stream",
     "text": [
      "56/56 [==============================] - 0s 142us/step\n"
     ]
    },
    {
     "data": {
      "text/plain": [
       "[1.237685067313058, 0.6071428656578064]"
      ]
     },
     "execution_count": 184,
     "metadata": {},
     "output_type": "execute_result"
    }
   ],
   "source": [
    "m.evaluate(X_test,Y_test)"
   ]
  },
  {
   "cell_type": "code",
   "execution_count": 185,
   "metadata": {},
   "outputs": [],
   "source": [
    "pred = m.predict_classes(X_test)"
   ]
  },
  {
   "cell_type": "code",
   "execution_count": 189,
   "metadata": {
    "scrolled": false
   },
   "outputs": [
    {
     "name": "stdout",
     "output_type": "stream",
     "text": [
      "I want to eat\n",
      "prediction: 🍴\n",
      "Actuall: 🍴\n",
      " \n",
      "he did not answer\n",
      "prediction: 😞\n",
      "Actuall: 😞\n",
      " \n",
      "he got a raise\n",
      "prediction: 😃\n",
      "Actuall: 😃\n",
      " \n",
      "she got me a present\n",
      "prediction: 😃\n",
      "Actuall: ❤️\n",
      " \n",
      "ha ha ha it was so funny\n",
      "prediction: 😃\n",
      "Actuall: 😃\n",
      " \n",
      "he is a good friend\n",
      "prediction: 😃\n",
      "Actuall: ❤️\n",
      " \n",
      "I am upset\n",
      "prediction: 😞\n",
      "Actuall: ❤️\n",
      " \n",
      "We had such a lovely dinner tonight\n",
      "prediction: 😃\n",
      "Actuall: ❤️\n",
      " \n",
      "where is the food\n",
      "prediction: 🍴\n",
      "Actuall: 🍴\n",
      " \n",
      "Stop making this joke ha ha ha\n",
      "prediction: 😃\n",
      "Actuall: 😃\n",
      " \n",
      "where is the ball\n",
      "prediction: ⚾\n",
      "Actuall: ⚾\n",
      " \n",
      "work is hard\n",
      "prediction: 😃\n",
      "Actuall: 😞\n",
      " \n",
      "This girl is messing with me\n",
      "prediction: ❤️\n",
      "Actuall: 😞\n",
      " \n",
      "are you serious ha ha\n",
      "prediction: 😞\n",
      "Actuall: 😃\n",
      " \n",
      "Let us go play baseball\n",
      "prediction: ⚾\n",
      "Actuall: ⚾\n",
      " \n",
      "This stupid grader is not working\n",
      "prediction: 😞\n",
      "Actuall: 😞\n",
      " \n",
      "work is horrible\n",
      "prediction: 😞\n",
      "Actuall: 😞\n",
      " \n",
      "Congratulation for having a baby\n",
      "prediction: 😃\n",
      "Actuall: 😃\n",
      " \n",
      "stop messing around\n",
      "prediction: 😞\n",
      "Actuall: 😞\n",
      " \n",
      "any suggestions for dinner\n",
      "prediction: 😃\n",
      "Actuall: 🍴\n",
      " \n",
      "I love taking breaks\n",
      "prediction: ❤️\n",
      "Actuall: ❤️\n",
      " \n",
      "you brighten my day\n",
      "prediction: ❤️\n",
      "Actuall: 😃\n",
      " \n",
      "I boiled rice\n",
      "prediction: 🍴\n",
      "Actuall: 🍴\n",
      " \n",
      "she is a bully\n",
      "prediction: 😞\n",
      "Actuall: 😞\n",
      " \n",
      "Why are you feeling bad\n",
      "prediction: 😞\n",
      "Actuall: 😞\n",
      " \n",
      "I am upset\n",
      "prediction: 😞\n",
      "Actuall: 😞\n",
      " \n",
      "I worked during my birthday\n",
      "prediction: 😃\n",
      "Actuall: 😞\n",
      " \n",
      "My grandmother is the love of my life\n",
      "prediction: ❤️\n",
      "Actuall: ❤️\n",
      " \n",
      "enjoy your break\n",
      "prediction: 🍴\n",
      "Actuall: 😃\n",
      " \n",
      "valentine day is near\n",
      "prediction: 😃\n",
      "Actuall: ❤️\n",
      " \n"
     ]
    }
   ],
   "source": [
    "for i in range(30):\n",
    "    print(' '.join(Xt[i]))\n",
    "    print(\"prediction:\",emoji.emojize(emoji_dictionary[str(pred[i])]))\n",
    "    print(\"Actuall:\",emoji.emojize(emoji_dictionary[str(np.argmax(Y_test[i]))]))\n",
    "    print(\" \")"
   ]
  },
  {
   "cell_type": "code",
   "execution_count": 191,
   "metadata": {},
   "outputs": [],
   "source": [
    "with open(\"model.json\", \"w\") as file:\n",
    "    file.write(m.to_json())\n",
    "m.save_weights(\"model.h5\")"
   ]
  },
  {
   "cell_type": "code",
   "execution_count": 192,
   "metadata": {},
   "outputs": [],
   "source": [
    "from keras.models import model_from_json"
   ]
  },
  {
   "cell_type": "code",
   "execution_count": 194,
   "metadata": {},
   "outputs": [],
   "source": [
    "with open(\"model.json\",'r') as f:\n",
    "    m = model_from_json(f.read())\n",
    "m.load_weights(\"model.h5\")"
   ]
  },
  {
   "cell_type": "code",
   "execution_count": 359,
   "metadata": {},
   "outputs": [
    {
     "name": "stdout",
     "output_type": "stream",
     "text": [
      "Enter some text: I love chicken curry\n"
     ]
    }
   ],
   "source": [
    "test_str = input(\"Enter some text: \")\n",
    "X = pd.Series([test_str])"
   ]
  },
  {
   "cell_type": "code",
   "execution_count": 360,
   "metadata": {},
   "outputs": [
    {
     "data": {
      "text/plain": [
       "0    I love chicken curry\n",
       "dtype: object"
      ]
     },
     "execution_count": 360,
     "metadata": {},
     "output_type": "execute_result"
    }
   ],
   "source": [
    "X"
   ]
  },
  {
   "cell_type": "code",
   "execution_count": 361,
   "metadata": {},
   "outputs": [],
   "source": [
    "emb_X = embedding_output(X)"
   ]
  },
  {
   "cell_type": "code",
   "execution_count": 362,
   "metadata": {},
   "outputs": [
    {
     "data": {
      "text/plain": [
       "0    [I, love, chicken, curry]\n",
       "dtype: object"
      ]
     },
     "execution_count": 362,
     "metadata": {},
     "output_type": "execute_result"
    }
   ],
   "source": [
    "X"
   ]
  },
  {
   "cell_type": "code",
   "execution_count": 363,
   "metadata": {},
   "outputs": [],
   "source": [
    "p = m.predict_classes(emb_X)"
   ]
  },
  {
   "cell_type": "code",
   "execution_count": 364,
   "metadata": {},
   "outputs": [
    {
     "name": "stdout",
     "output_type": "stream",
     "text": [
      "I love chicken curry\n",
      "🍴\n"
     ]
    }
   ],
   "source": [
    "\n",
    "print(' '.join(X[0]))\n",
    "print(emoji.emojize(emoji_dictionary[str(p[0])]))"
   ]
  },
  {
   "cell_type": "code",
   "execution_count": null,
   "metadata": {},
   "outputs": [],
   "source": []
  },
  {
   "cell_type": "code",
   "execution_count": null,
   "metadata": {},
   "outputs": [],
   "source": []
  }
 ],
 "metadata": {
  "kernelspec": {
   "display_name": "Python 3",
   "language": "python",
   "name": "python3"
  },
  "language_info": {
   "codemirror_mode": {
    "name": "ipython",
    "version": 3
   },
   "file_extension": ".py",
   "mimetype": "text/x-python",
   "name": "python",
   "nbconvert_exporter": "python",
   "pygments_lexer": "ipython3",
   "version": "3.7.4"
  }
 },
 "nbformat": 4,
 "nbformat_minor": 2
}
